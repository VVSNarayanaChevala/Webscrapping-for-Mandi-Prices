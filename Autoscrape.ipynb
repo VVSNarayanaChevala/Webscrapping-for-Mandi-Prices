{
 "cells": [
  {
   "cell_type": "code",
   "execution_count": 48,
   "metadata": {},
   "outputs": [
    {
     "name": "stdout",
     "output_type": "stream",
     "text": [
      "['Keonjhar', 'Keonjhar(Dhekikote)', 'Saharpada', 'Both', 'Castor Oil', 'West Bengal', 'Sundergarh', 'Balekai', 'Maharashtra', 'Bhawanipatna', 'Rice', '2012', 'Z[State Total]', 'Other', '2500', '2600', '02 May 2021', '01 May 2021']\n"
     ]
    }
   ],
   "source": [
    "from autoscraper import AutoScraper\n",
    "\n",
    "url = 'http://agmarknet.gov.in/SearchCmmMkt.aspx?Tx_Commodity=3&Tx_State=OR&Tx_District=0&Tx_Market=0&DateFrom=01-May-2021&DateTo=04-May-2021&Fr_Date=01-May-2021&To_Date=04-May-2021&Tx_Trend=0&Tx_CommodityHead=Rice&Tx_StateHead=Odisha'\n",
    "\n",
    "# We can add one or multiple candidates here.\n",
    "# You can also put urls here to retrieve urls.\n",
    "wanted_list = [\"Keonjhar\", \"Keonjhar\",\"Rice\", \"Other\", \"2500\", \"2600\", \"2600\", \"02 May 2021\"]\n",
    "\n",
    "scraper = AutoScraper()\n",
    "result = scraper.build(url, wanted_list)\n",
    "print(result)"
   ]
  },
  {
   "cell_type": "code",
   "execution_count": 49,
   "metadata": {},
   "outputs": [
    {
     "data": {
      "text/plain": [
       "{'rule_j2n8': ['Keonjhar',\n",
       "  'Keonjhar',\n",
       "  'Keonjhar',\n",
       "  'Keonjhar',\n",
       "  'Keonjhar',\n",
       "  'Keonjhar'],\n",
       " 'rule_k5c4': ['Keonjhar',\n",
       "  'Keonjhar',\n",
       "  'Keonjhar',\n",
       "  'Keonjhar',\n",
       "  'Keonjhar',\n",
       "  'Keonjhar'],\n",
       " 'rule_i2b0': ['Keonjhar',\n",
       "  'Keonjhar',\n",
       "  'Keonjhar',\n",
       "  'Keonjhar',\n",
       "  'Keonjhar',\n",
       "  'Keonjhar'],\n",
       " 'rule_rwz2': ['Keonjhar',\n",
       "  'Keonjhar',\n",
       "  'Keonjhar',\n",
       "  'Keonjhar',\n",
       "  'Keonjhar',\n",
       "  'Keonjhar'],\n",
       " 'rule_n34t': ['Keonjhar',\n",
       "  'Keonjhar',\n",
       "  'Keonjhar(Dhekikote)',\n",
       "  'Keonjhar(Dhekikote)',\n",
       "  'Saharpada',\n",
       "  'Saharpada'],\n",
       " 'rule_jcsy': ['Keonjhar',\n",
       "  'Keonjhar',\n",
       "  'Keonjhar',\n",
       "  'Keonjhar',\n",
       "  'Keonjhar',\n",
       "  'Keonjhar'],\n",
       " 'rule_d39d': ['Keonjhar',\n",
       "  'Keonjhar',\n",
       "  'Keonjhar(Dhekikote)',\n",
       "  'Keonjhar(Dhekikote)',\n",
       "  'Saharpada',\n",
       "  'Saharpada'],\n",
       " 'rule_vwzn': ['Keonjhar',\n",
       "  'Keonjhar',\n",
       "  'Keonjhar',\n",
       "  'Keonjhar',\n",
       "  'Keonjhar',\n",
       "  'Keonjhar'],\n",
       " 'rule_3te3': ['Both', 'Castor Oil', 'West Bengal', 'Sundergarh', 'Keonjhar'],\n",
       " 'rule_ngqs': ['Both', 'Balekai', 'Maharashtra', 'Keonjhar', 'Bhawanipatna'],\n",
       " 'rule_cxgb': ['Rice', 'Rice', 'Rice', 'Rice', 'Rice', 'Rice'],\n",
       " 'rule_snh6': ['Rice', 'Rice', 'Rice', 'Rice', 'Rice', 'Rice'],\n",
       " 'rule_kx4c': ['Rice', 'Rice', 'Rice', 'Rice', 'Rice', 'Rice'],\n",
       " 'rule_02tu': ['Rice', 'Rice', 'Rice', 'Rice', 'Rice', 'Rice'],\n",
       " 'rule_inkv': ['Rice', 'Rice', 'Rice', 'Rice', 'Rice', 'Rice'],\n",
       " 'rule_plnz': ['Rice', 'Rice', 'Rice', 'Rice', 'Rice', 'Rice'],\n",
       " 'rule_bsp4': ['Rice', '2012', '2012'],\n",
       " 'rule_m1vu': ['Both', 'Rice', 'West Bengal', 'Sundergarh', 'Z[State Total]'],\n",
       " 'rule_amxy': ['Other', 'Other', 'Other', 'Other', 'Other', 'Other'],\n",
       " 'rule_a2h0': ['Other', 'Other', 'Other', 'Other', 'Other', 'Other'],\n",
       " 'rule_77kf': ['Other', 'Other', 'Other', 'Other', 'Other', 'Other'],\n",
       " 'rule_c2mn': ['Other', 'Other', 'Other', 'Other', 'Other', 'Other'],\n",
       " 'rule_t2nl': ['Other', 'Other', 'Other', 'Other', 'Other', 'Other'],\n",
       " 'rule_75ah': ['Other', 'Other', 'Other', 'Other', 'Other', 'Other'],\n",
       " 'rule_d2n2': ['2500', '2500', '2500', '2500', '2500', '2500'],\n",
       " 'rule_onj5': ['2600', '2600', '2600', '2600', '2500', '2600'],\n",
       " 'rule_n3ml': ['2500', '2500', '2500', '2500', '2500', '2500'],\n",
       " 'rule_1f0o': ['2500', '2500', '2500', '2500', '2500', '2500'],\n",
       " 'rule_gqlh': ['2500', '2500', '2500', '2500', '2500', '2500'],\n",
       " 'rule_pnzm': ['2500', '2500', '2500', '2500', '2500', '2500'],\n",
       " 'rule_l1qn': ['2500', '2500', '2500', '2500', '2500', '2500'],\n",
       " 'rule_hchn': ['2600', '2600', '2600', '2600', '2500', '2600'],\n",
       " 'rule_tm05': ['2600', '2600', '2600', '2600', '2600', '2600'],\n",
       " 'rule_iggm': ['2600', '2600', '2600', '2600', '2600', '2600'],\n",
       " 'rule_g5nn': ['2600', '2600', '2600', '2600', '2500', '2600'],\n",
       " 'rule_mzrl': ['2600', '2600', '2600', '2600', '2600', '2600'],\n",
       " 'rule_f8wi': ['2600', '2600', '2600', '2600', '2500', '2600'],\n",
       " 'rule_bz56': ['2600', '2600', '2600', '2600', '2600', '2600'],\n",
       " 'rule_c2h6': ['2600', '2600', '2600', '2600', '2500', '2600'],\n",
       " 'rule_6eki': ['2600', '2600', '2600', '2600', '2600', '2600'],\n",
       " 'rule_utpv': ['2600', '2600', '2600', '2600', '2500', '2600'],\n",
       " 'rule_4v6q': ['2600', '2600', '2600', '2600', '2600', '2600'],\n",
       " 'rule_v1wf': ['02 May 2021',\n",
       "  '01 May 2021',\n",
       "  '02 May 2021',\n",
       "  '01 May 2021',\n",
       "  '02 May 2021',\n",
       "  '01 May 2021'],\n",
       " 'rule_t07j': ['02 May 2021',\n",
       "  '01 May 2021',\n",
       "  '02 May 2021',\n",
       "  '01 May 2021',\n",
       "  '02 May 2021',\n",
       "  '01 May 2021'],\n",
       " 'rule_drie': ['02 May 2021',\n",
       "  '01 May 2021',\n",
       "  '02 May 2021',\n",
       "  '01 May 2021',\n",
       "  '02 May 2021',\n",
       "  '01 May 2021']}"
      ]
     },
     "execution_count": 49,
     "metadata": {},
     "output_type": "execute_result"
    }
   ],
   "source": [
    "scraper.get_result_similar(url, grouped=True)"
   ]
  },
  {
   "cell_type": "code",
   "execution_count": 52,
   "metadata": {
    "scrolled": true
   },
   "outputs": [],
   "source": [
    "scraper.get_result_similar(url, grouped=True)\n",
    "scraper.set_rule_aliases({'rule_j2n8': 'District Name', \n",
    "                          'rule_n34t': 'Market Name',\n",
    "                          'rule_cxgb': 'Commodity',\n",
    "                          'rule_amxy':'Variety',\n",
    "                          'rule_d2n2':'Min Price (Rs./Quintal)',\n",
    "                          'rule_4v6q':'Max Price (Rs./Quintal)',\n",
    "                          'rule_onj5':'Modal Price (Rs./Quintal)',\n",
    "                          'rule_v1wf': 'Price Date'\n",
    "                         })\n",
    "scraper.keep_rules(['rule_j2n8', 'rule_n34t', 'rule_cxgb', 'rule_amxy', \n",
    "                    'rule_d2n2', 'rule_4v6q', 'rule_onj5', 'rule_v1wf'])\n",
    "scraper.save(\"OR-Search\")\n",
    "result = scraper.get_result_similar(url, group_by_alias=True)"
   ]
  },
  {
   "cell_type": "code",
   "execution_count": 53,
   "metadata": {},
   "outputs": [
    {
     "data": {
      "text/plain": [
       "{'District Name': ['Keonjhar',\n",
       "  'Keonjhar',\n",
       "  'Keonjhar',\n",
       "  'Keonjhar',\n",
       "  'Keonjhar',\n",
       "  'Keonjhar'],\n",
       " 'Market Name': ['Keonjhar',\n",
       "  'Keonjhar',\n",
       "  'Keonjhar(Dhekikote)',\n",
       "  'Keonjhar(Dhekikote)',\n",
       "  'Saharpada',\n",
       "  'Saharpada'],\n",
       " 'Commodity': ['Rice', 'Rice', 'Rice', 'Rice', 'Rice', 'Rice'],\n",
       " 'Variety': ['Other', 'Other', 'Other', 'Other', 'Other', 'Other'],\n",
       " 'Min Price (Rs./Quintal)': ['2500', '2500', '2500', '2500', '2500', '2500'],\n",
       " 'Modal Price (Rs./Quintal)': ['2600', '2600', '2600', '2600', '2500', '2600'],\n",
       " 'Max Price (Rs./Quintal)': ['2600', '2600', '2600', '2600', '2600', '2600'],\n",
       " 'Price Date': ['02 May 2021',\n",
       "  '01 May 2021',\n",
       "  '02 May 2021',\n",
       "  '01 May 2021',\n",
       "  '02 May 2021',\n",
       "  '01 May 2021']}"
      ]
     },
     "execution_count": 53,
     "metadata": {},
     "output_type": "execute_result"
    }
   ],
   "source": [
    "result"
   ]
  },
  {
   "cell_type": "code",
   "execution_count": 67,
   "metadata": {
    "scrolled": false
   },
   "outputs": [
    {
     "data": {
      "text/plain": [
       "{'District Name': ['Keonjhar',\n",
       "  'Keonjhar',\n",
       "  'Keonjhar',\n",
       "  'Keonjhar',\n",
       "  'Keonjhar',\n",
       "  'Keonjhar'],\n",
       " 'Market Name': ['Keonjhar',\n",
       "  'Keonjhar',\n",
       "  'Keonjhar(Dhekikote)',\n",
       "  'Keonjhar(Dhekikote)',\n",
       "  'Saharpada',\n",
       "  'Saharpada'],\n",
       " 'Commodity': ['Rice', 'Rice', 'Rice', 'Rice', 'Rice', 'Rice'],\n",
       " 'Variety': ['Other', 'Other', 'Other', 'Other', 'Other', 'Other'],\n",
       " 'Min Price (Rs./Quintal)': ['2500', '2500', '2500', '2500', '2500', '2500'],\n",
       " 'Modal Price (Rs./Quintal)': ['2600', '2600', '2600', '2600', '2500', '2600'],\n",
       " 'Max Price (Rs./Quintal)': ['2600', '2600', '2600', '2600', '2600', '2600'],\n",
       " 'Price Date': ['02 May 2021',\n",
       "  '01 May 2021',\n",
       "  '02 May 2021',\n",
       "  '01 May 2021',\n",
       "  '02 May 2021',\n",
       "  '01 May 2021']}"
      ]
     },
     "execution_count": 67,
     "metadata": {},
     "output_type": "execute_result"
    }
   ],
   "source": [
    "url = 'http://agmarknet.gov.in/SearchCmmMkt.aspx?Tx_Commodity=3&Tx_State=OR&Tx_District=0&Tx_Market=0&DateFrom=01-May-2021&DateTo=04-May-2021&Tx_Trend=0&Tx_CommodityHead=Rice&Tx_StateHead=Odisha'\n",
    "#url = 'http://agmarknet.gov.in/SearchCmmMkt.aspx?Tx_Commodity=3&Tx_State=OR&Tx_District=0&Tx_Market=0&DateFrom=01-Jan-2021&DateTo=04-May-2021&Fr_Date=01-Jan-2021&To_Date=04-May-2021&Tx_Trend=0&Tx_CommodityHead=Rice&Tx_StateHead=Odisha'\n",
    "result = scraper.get_result_similar(url, group_by_alias=True)\n",
    "result"
   ]
  },
  {
   "cell_type": "code",
   "execution_count": null,
   "metadata": {},
   "outputs": [],
   "source": []
  }
 ],
 "metadata": {
  "kernelspec": {
   "display_name": "Python 3",
   "language": "python",
   "name": "python3"
  },
  "language_info": {
   "codemirror_mode": {
    "name": "ipython",
    "version": 3
   },
   "file_extension": ".py",
   "mimetype": "text/x-python",
   "name": "python",
   "nbconvert_exporter": "python",
   "pygments_lexer": "ipython3",
   "version": "3.7.6"
  }
 },
 "nbformat": 4,
 "nbformat_minor": 4
}
